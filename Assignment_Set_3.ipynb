{
  "nbformat": 4,
  "nbformat_minor": 0,
  "metadata": {
    "colab": {
      "provenance": []
    },
    "kernelspec": {
      "name": "python3",
      "display_name": "Python 3"
    },
    "language_info": {
      "name": "python"
    }
  },
  "cells": [
    {
      "cell_type": "code",
      "execution_count": 1,
      "metadata": {
        "id": "X8XFlIxaHNqO"
      },
      "outputs": [],
      "source": [
        "import pandas as pd\n",
        "import numpy as np\n",
        "from scipy import stats"
      ]
    },
    {
      "cell_type": "code",
      "source": [
        "margin_error = 0.04"
      ],
      "metadata": {
        "id": "xHU53whxHhNv"
      },
      "execution_count": 2,
      "outputs": []
    },
    {
      "cell_type": "code",
      "source": [
        "alpha=0.05/2 # for 95% confidence\n",
        "Z_statistic = stats.norm.ppf(1-alpha)\n"
      ],
      "metadata": {
        "id": "_77lTuY-IfCI"
      },
      "execution_count": 5,
      "outputs": []
    },
    {
      "cell_type": "code",
      "source": [
        "Z_statistic"
      ],
      "metadata": {
        "colab": {
          "base_uri": "https://localhost:8080/"
        },
        "id": "GkZrHibrIleN",
        "outputId": "1bef8312-480c-475d-fe39-a272210fdeee"
      },
      "execution_count": 6,
      "outputs": [
        {
          "output_type": "execute_result",
          "data": {
            "text/plain": [
              "1.959963984540054"
            ]
          },
          "metadata": {},
          "execution_count": 6
        }
      ]
    },
    {
      "cell_type": "code",
      "source": [
        "p= 0.5\n",
        "n= p*(1-p)*(Z_statistic8/margin_error)**2"
      ],
      "metadata": {
        "id": "d-uJVDnDImPy"
      },
      "execution_count": 9,
      "outputs": []
    },
    {
      "cell_type": "code",
      "source": [
        "n"
      ],
      "metadata": {
        "colab": {
          "base_uri": "https://localhost:8080/"
        },
        "id": "TghYPnQwIx-Q",
        "outputId": "1157c007-f36f-49bf-b304-05d884d32108"
      },
      "execution_count": 10,
      "outputs": [
        {
          "output_type": "execute_result",
          "data": {
            "text/plain": [
              "600.227940733457"
            ]
          },
          "metadata": {},
          "execution_count": 10
        }
      ]
    },
    {
      "cell_type": "markdown",
      "source": [
        "Q9"
      ],
      "metadata": {
        "id": "B-VEHJpPJII7"
      }
    },
    {
      "cell_type": "code",
      "source": [
        "alpha=0.02/2 # for  98% confidence\n",
        "Z_statistic = stats.norm.ppf(1-alpha)\n",
        "n= p*(1-p)*(Z_statistic/margin_error)**2"
      ],
      "metadata": {
        "id": "wuzTwujUI3pU"
      },
      "execution_count": 11,
      "outputs": []
    },
    {
      "cell_type": "code",
      "source": [
        "n"
      ],
      "metadata": {
        "colab": {
          "base_uri": "https://localhost:8080/"
        },
        "id": "N0c9XoTPJb6u",
        "outputId": "3faa45d2-0590-4958-f06d-b81781e83d41"
      },
      "execution_count": 12,
      "outputs": [
        {
          "output_type": "execute_result",
          "data": {
            "text/plain": [
              "845.6085048522406"
            ]
          },
          "metadata": {},
          "execution_count": 12
        }
      ]
    },
    {
      "cell_type": "code",
      "source": [],
      "metadata": {
        "id": "14fDpwgkJctE"
      },
      "execution_count": null,
      "outputs": []
    }
  ]
}