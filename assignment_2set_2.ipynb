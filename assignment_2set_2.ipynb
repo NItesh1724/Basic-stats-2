{
  "nbformat": 4,
  "nbformat_minor": 0,
  "metadata": {
    "colab": {
      "provenance": []
    },
    "kernelspec": {
      "name": "python3",
      "display_name": "Python 3"
    },
    "language_info": {
      "name": "python"
    }
  },
  "cells": [
    {
      "cell_type": "code",
      "execution_count": 1,
      "metadata": {
        "id": "V6lUpVyFtmPg"
      },
      "outputs": [],
      "source": [
        "import pandas as pd\n",
        "import numpy as np\n",
        "import matplotlib.pyplot as plt\n",
        "import seaborn as sbs\n",
        "from scipy import stats"
      ]
    },
    {
      "cell_type": "markdown",
      "source": [
        "Question 3\n"
      ],
      "metadata": {
        "id": "OB2HbRGtDOWh"
      }
    },
    {
      "cell_type": "code",
      "source": [
        "stats.norm.cdf(44,38,6)"
      ],
      "metadata": {
        "colab": {
          "base_uri": "https://localhost:8080/"
        },
        "id": "UurwKjyX69WW",
        "outputId": "ce73e402-c2b2-41cb-b437-b7538eb109b3"
      },
      "execution_count": 2,
      "outputs": [
        {
          "output_type": "execute_result",
          "data": {
            "text/plain": [
              "0.8413447460685429"
            ]
          },
          "metadata": {},
          "execution_count": 2
        }
      ]
    },
    {
      "cell_type": "code",
      "source": [
        "1-stats.norm.cdf(44,38,6)"
      ],
      "metadata": {
        "colab": {
          "base_uri": "https://localhost:8080/"
        },
        "id": "qNXIpCHS3KbQ",
        "outputId": "74fb2559-fe3e-4863-f659-5dd63631f42d"
      },
      "execution_count": 3,
      "outputs": [
        {
          "output_type": "execute_result",
          "data": {
            "text/plain": [
              "0.15865525393145707"
            ]
          },
          "metadata": {},
          "execution_count": 3
        }
      ]
    },
    {
      "cell_type": "code",
      "source": [
        "stats.norm.cdf(30,38,6)"
      ],
      "metadata": {
        "colab": {
          "base_uri": "https://localhost:8080/"
        },
        "id": "ox5bgFQI3aAz",
        "outputId": "189ccf8e-41f5-4f3e-d218-aebabaccdfe2"
      },
      "execution_count": 4,
      "outputs": [
        {
          "output_type": "execute_result",
          "data": {
            "text/plain": [
              "0.09121121972586788"
            ]
          },
          "metadata": {},
          "execution_count": 4
        }
      ]
    },
    {
      "cell_type": "markdown",
      "source": [
        "Question 4"
      ],
      "metadata": {
        "id": "NaeK4pHrDLPY"
      }
    },
    {
      "cell_type": "code",
      "source": [
        "(stats.norm.interval(0.99,100,20))"
      ],
      "metadata": {
        "id": "TzjWsOBP8FXZ",
        "colab": {
          "base_uri": "https://localhost:8080/"
        },
        "outputId": "91b0d0fa-3ca5-4a13-81ba-7391667733d1"
      },
      "execution_count": 5,
      "outputs": [
        {
          "output_type": "execute_result",
          "data": {
            "text/plain": [
              "(48.48341392902199, 151.516586070978)"
            ]
          },
          "metadata": {},
          "execution_count": 5
        }
      ]
    },
    {
      "cell_type": "markdown",
      "source": [
        "Question 5\n"
      ],
      "metadata": {
        "id": "FPmtv2Mf30xc"
      }
    },
    {
      "cell_type": "code",
      "source": [
        "# Given\n",
        "mu5_1=5\n",
        "mu5_2=7\n",
        "variance_1=3**2\n",
        "variance_2=4**2"
      ],
      "metadata": {
        "id": "gU5bWv1F4sVO"
      },
      "execution_count": 11,
      "outputs": []
    },
    {
      "cell_type": "code",
      "source": [
        "mu5=mu5_1+mu5_2\n",
        "variance= variance_1 + variance_2\n",
        "\n",
        "import numpy as np\n",
        "sigma5=np.sqrt(variance)"
      ],
      "metadata": {
        "id": "JavDapzl4xQP"
      },
      "execution_count": 12,
      "outputs": []
    },
    {
      "cell_type": "markdown",
      "source": [
        "A.\n"
      ],
      "metadata": {
        "id": "J1r-Zmcx4ROL"
      }
    },
    {
      "cell_type": "code",
      "source": [
        " z_score = stats.norm.ppf(0.95)\n"
      ],
      "metadata": {
        "id": "No_f6M8qDqDX"
      },
      "execution_count": 8,
      "outputs": []
    },
    {
      "cell_type": "code",
      "source": [
        "z_score"
      ],
      "metadata": {
        "colab": {
          "base_uri": "https://localhost:8080/"
        },
        "id": "sqYAVedl4I1B",
        "outputId": "589296dc-e862-45aa-bde1-2b5cbaf1931a"
      },
      "execution_count": 9,
      "outputs": [
        {
          "output_type": "execute_result",
          "data": {
            "text/plain": [
              "1.6448536269514722"
            ]
          },
          "metadata": {},
          "execution_count": 9
        }
      ]
    },
    {
      "cell_type": "code",
      "source": [
        "# z_score = (x-mu)/sigma\n",
        "x5_1=mu5 + (z_score*sigma5)\n",
        "x5_2=mu5 - (z_score*sigma5)"
      ],
      "metadata": {
        "id": "7oLGSQGF4KjI"
      },
      "execution_count": 13,
      "outputs": []
    },
    {
      "cell_type": "code",
      "source": [
        "(x5_2*45*10**6,x5_1*45*10**6)"
      ],
      "metadata": {
        "colab": {
          "base_uri": "https://localhost:8080/"
        },
        "id": "-kgyNws_4kyL",
        "outputId": "cd4922e0-b8b5-4f6f-d2c9-12d38863baba"
      },
      "execution_count": 15,
      "outputs": [
        {
          "output_type": "execute_result",
          "data": {
            "text/plain": [
              "(169907933.93591875, 910092066.0640812)"
            ]
          },
          "metadata": {},
          "execution_count": 15
        }
      ]
    },
    {
      "cell_type": "markdown",
      "source": [
        "B."
      ],
      "metadata": {
        "id": "5RAwR7XW5Dq1"
      }
    },
    {
      "cell_type": "code",
      "source": [
        "probability2= 0.05\n",
        "z_score2 = -stats.norm.ppf(probability) ## -ve sign for less than 50% proobability\n"
      ],
      "metadata": {
        "id": "yckCq0l745LK"
      },
      "execution_count": 26,
      "outputs": []
    },
    {
      "cell_type": "code",
      "source": [
        "z_score2"
      ],
      "metadata": {
        "colab": {
          "base_uri": "https://localhost:8080/"
        },
        "id": "wxc2rlXf7CLN",
        "outputId": "d98fa28a-98e5-490b-b32e-4d6c3003dc58"
      },
      "execution_count": 27,
      "outputs": [
        {
          "output_type": "execute_result",
          "data": {
            "text/plain": [
              "1.6448536269514729"
            ]
          },
          "metadata": {},
          "execution_count": 27
        }
      ]
    },
    {
      "cell_type": "code",
      "source": [
        "x5_b=mu5 + (z_score2*sigma5)"
      ],
      "metadata": {
        "id": "HU3oqvwK6Fh6"
      },
      "execution_count": 28,
      "outputs": []
    },
    {
      "cell_type": "code",
      "source": [
        "(x5_b*45*10**6)"
      ],
      "metadata": {
        "colab": {
          "base_uri": "https://localhost:8080/"
        },
        "id": "9VycXZW06IfN",
        "outputId": "c980444e-516b-4269-efaf-98b37c35edf3"
      },
      "execution_count": 29,
      "outputs": [
        {
          "output_type": "execute_result",
          "data": {
            "text/plain": [
              "910092066.0640814"
            ]
          },
          "metadata": {},
          "execution_count": 29
        }
      ]
    },
    {
      "cell_type": "markdown",
      "source": [
        "C."
      ],
      "metadata": {
        "id": "w9nk1JAo7vsj"
      }
    },
    {
      "cell_type": "code",
      "source": [
        "p5_1=stats.norm.cdf(0,5,3)\n",
        "p5_2=stats.norm.cdf(0,7,4)\n",
        "p5_1\n",
        "p5_2"
      ],
      "metadata": {
        "colab": {
          "base_uri": "https://localhost:8080/"
        },
        "id": "ml_mxKY16MGG",
        "outputId": "8f705c8e-1598-41f4-ae32-0f9cb4e45024"
      },
      "execution_count": 30,
      "outputs": [
        {
          "output_type": "execute_result",
          "data": {
            "text/plain": [
              "0.040059156863817086"
            ]
          },
          "metadata": {},
          "execution_count": 30
        }
      ]
    },
    {
      "cell_type": "code",
      "source": [
        "if p5_1>p5_2:\n",
        "  print('division 1 has a larger probability of making a loss in a given year')\n",
        "else:\n",
        "  print('division 2 has a larger probability of making a loss in a given year')"
      ],
      "metadata": {
        "colab": {
          "base_uri": "https://localhost:8080/"
        },
        "id": "rlP4fPjB703X",
        "outputId": "badbb4bf-a528-44bc-e66b-33a1cf946073"
      },
      "execution_count": 32,
      "outputs": [
        {
          "output_type": "stream",
          "name": "stdout",
          "text": [
            "division 1 has a larger probability of making a loss in a given year\n"
          ]
        }
      ]
    },
    {
      "cell_type": "code",
      "source": [],
      "metadata": {
        "id": "MF2gVuVJ76Ge"
      },
      "execution_count": null,
      "outputs": []
    }
  ]
}